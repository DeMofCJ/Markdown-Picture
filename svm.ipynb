{
 "cells": [
  {
   "cell_type": "code",
   "execution_count": 71,
   "metadata": {
    "collapsed": true
   },
   "outputs": [],
   "source": [
    "import numpy as np\n",
    "from sklearn import svm\n",
    "import matplotlib.pyplot as plt\n",
    "import time"
   ]
  },
  {
   "cell_type": "code",
   "execution_count": 78,
   "metadata": {
    "collapsed": false,
    "slideshow": {
     "slide_type": "-"
    }
   },
   "outputs": [],
   "source": [
    "class MySVM(object):\n",
    "    def __init__(self, k=None, method=None, kernel=None, max_iter=None):\n",
    "        self.k = k\n",
    "        self.method = method\n",
    "        self.kernel = kernel\n",
    "        self.iteration = max_iter\n",
    "\n",
    "    def loadData(self, fileName):\n",
    "        with open('./data/'+fileName, 'rb') as f:\n",
    "            lines = f.readlines()\n",
    "            y = np.zeros(len(lines), dtype=int)\n",
    "            x = np.zeros((len(lines), 20), dtype=float)\n",
    "            for i in range(len(lines)):\n",
    "                label = int(lines[i].strip().split(' ')[0])\n",
    "                y[i] = label\n",
    "                feature = [float(ele.split(':')[1]) for ele in lines[i].strip().split(' ')[1:]]\n",
    "                x[i] = feature\n",
    "            y = y.reshape(len(lines), 1)\n",
    "            return np.matrix(np.concatenate([y, x], axis=1))\n",
    "        \n",
    "    def svm_model(self, num_of_svm):\n",
    "        modelList = []\n",
    "        for i in range(num_of_svm):\n",
    "            clf = svm.SVC(kernel=self.kernel, probability=True, max_iter=self.iteration)\n",
    "            modelList.append(clf)\n",
    "        return modelList\n",
    "    \n",
    "    # ----------train---------------------------------------\n",
    "    def train(self):\n",
    "        dataTrain = self.loadData('train.txt')\n",
    "        # -------method 1: OVO------------------------------\n",
    "        if self.method=='1v1':\n",
    "            svmModel = []\n",
    "            svmModel = self.svm_model((self.k*(self.k - 1))/2)\n",
    "            dataPair = []\n",
    "            for i in range(self.k-1):\n",
    "                for j in range(i+1, self.k):\n",
    "                    data_1 = dataTrain[np.nonzero(dataTrain[:, 0].A==i)[0]]\n",
    "                    data_2 = dataTrain[np.nonzero(dataTrain[:, 0].A==j)[0]]\n",
    "                    data_1[:, 0] = 1\n",
    "                    data_2[:, 0] = 0\n",
    "                    dataPair.append(np.vstack([data_1, data_2]))\n",
    "            for k in range(len(svmModel)):\n",
    "                data = dataPair[k]\n",
    "                svmModel[k].fit(data[:, 1:], data[:, 0])\n",
    "        # -------method 2: OVR------------------------------     \n",
    "        if self.method=='1vR':\n",
    "            svmModel = svmModel(self, self.k)\n",
    "            dataPair = []\n",
    "            for i in range(self.k):\n",
    "                data_k = dataTrain[np.nonzero(dataTrain[:, 0].A==i)[0]]\n",
    "                data_other = dataTrain[np.nonzero(dataTrain[:, 0].A!=i)[0]]\n",
    "                data_k[:, 0] = 1\n",
    "                data_other[:, 0] = 0\n",
    "                dataPair.append(np.random.shuffle(np.vstack([data_k, data_other])))\n",
    "            for k in len(svmModel):\n",
    "                data = dataPair[k]\n",
    "                svmModel[k].fit(data[:, 1:], data[:, 0]) \n",
    "        # -------method 3: PVP------------------------------       \n",
    "        if self.method=='PvP':\n",
    "            pass\n",
    "        return svmModel\n",
    "    \n",
    "    # ----------test---------------------------------------\n",
    "    def test(self, trained_model):\n",
    "        data = self.loadData('test.txt')\n",
    "        dataTest = data[:, 1:]\n",
    "        predict = np.zeros([len(trained_model), data.shape[0]], dtype=float)\n",
    "        for i in range(len(trained_model)):                                              \n",
    "            result = trained_model[i].predict(dataTest)\n",
    "            #print type(result), np.shape(result)\n",
    "            predict[i] = result\n",
    "        return predict\n",
    "                "
   ]
  },
  {
   "cell_type": "code",
   "execution_count": 79,
   "metadata": {
    "collapsed": false
   },
   "outputs": [
    {
     "name": "stdout",
     "output_type": "stream",
     "text": [
      "[[  0.00000000e+00   9.58610000e-02   1.08930000e-02 ...,   7.40740000e-02\n",
      "    8.71500000e-03   3.26800000e-02]\n",
      " [  0.00000000e+00   1.20879000e-01   0.00000000e+00 ...,   3.84620000e-02\n",
      "    1.09890000e-02   1.64840000e-02]\n",
      " [  0.00000000e+00   7.27610000e-02   7.46300000e-03 ...,   6.34330000e-02\n",
      "    7.46300000e-03   3.35820000e-02]\n",
      " ..., \n",
      " [  1.10000000e+01   4.33980000e-02   1.56970000e-02 ...,   5.90950000e-02\n",
      "    2.40070000e-02   4.24750000e-02]\n",
      " [  1.10000000e+01   7.94520000e-02   2.74000000e-03 ...,   6.84930000e-02\n",
      "    1.64380000e-02   4.65750000e-02]\n",
      " [  1.10000000e+01   6.17280000e-02   2.67490000e-02 ...,   6.99590000e-02\n",
      "    1.85190000e-02   5.14400000e-02]]\n",
      "[[ 0.  0.  0. ...,  0.  0.  0.]\n",
      " [ 1.  1.  1. ...,  1.  1.  1.]\n",
      " [ 1.  1.  1. ...,  1.  1.  1.]\n",
      " ..., \n",
      " [ 0.  0.  0. ...,  0.  0.  0.]\n",
      " [ 1.  1.  1. ...,  1.  1.  1.]\n",
      " [ 1.  1.  1. ...,  1.  1.  1.]]\n"
     ]
    }
   ],
   "source": [
    "mysvm = MySVM(k=12, method='1v1', kernel='rbf', max_iter=1000)\n",
    "svmModel = mysvm.train()\n",
    "predict = mysvm.test(svmModel)\n",
    "print predict\n",
    "# print predict[1]\n",
    "# print predict[2]\n",
    "# print predict[3]\n",
    "\n",
    "\n",
    "\n",
    "    "
   ]
  },
  {
   "cell_type": "code",
   "execution_count": null,
   "metadata": {
    "collapsed": true
   },
   "outputs": [],
   "source": []
  },
  {
   "cell_type": "code",
   "execution_count": null,
   "metadata": {
    "collapsed": true
   },
   "outputs": [],
   "source": []
  }
 ],
 "metadata": {
  "kernelspec": {
   "display_name": "Python 2",
   "language": "python",
   "name": "python2"
  },
  "language_info": {
   "codemirror_mode": {
    "name": "ipython",
    "version": 2
   },
   "file_extension": ".py",
   "mimetype": "text/x-python",
   "name": "python",
   "nbconvert_exporter": "python",
   "pygments_lexer": "ipython2",
   "version": "2.7.13"
  }
 },
 "nbformat": 4,
 "nbformat_minor": 2
}
